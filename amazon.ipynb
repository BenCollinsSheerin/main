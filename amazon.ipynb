{
 "cells": [
  {
   "cell_type": "code",
   "execution_count": null,
   "metadata": {},
   "outputs": [],
   "source": [
    "import numpy as np\n",
    "import pandas as pd\n",
    "import pandas_datareader as pdr\n",
    "import matplotlib.pyplot as plt\n",
    "from matplotlib import rcParams\n",
    "rcParams['figure.figsize'] = 8, 6\n",
    "import seaborn as sb\n",
    "sb.set()\n",
    "\n",
    "amzn = pdr.get_data_yahoo('AMZN')\n",
    "\n",
    "amzn_close = amzn['Close']\n",
    "\n",
    "amzn_return = pd.DataFrame(np.log(amzn_close).diff())\n",
    "\n",
    "amzn_return.plot()"
   ]
  }
 ],
 "metadata": {
  "language_info": {
   "name": "python"
  },
  "orig_nbformat": 4
 },
 "nbformat": 4,
 "nbformat_minor": 2
}
