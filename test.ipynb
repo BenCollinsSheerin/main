{
 "cells": [
  {
   "cell_type": "code",
   "execution_count": 63,
   "metadata": {},
   "outputs": [
    {
     "name": "stdout",
     "output_type": "stream",
     "text": [
      "[*********************100%***********************]  1 of 1 completed\n",
      "                  Close        lag_1        lag_2\n",
      "Date                                             \n",
      "2021-05-20  1385.000000          NaN          NaN\n",
      "2021-05-21  1398.800049  1385.000000          NaN\n",
      "2021-05-24  1408.599976  1398.800049  1385.000000\n",
      "2021-05-25  1374.000000  1408.599976  1398.800049\n",
      "2021-05-26  1378.400024  1374.000000  1408.599976\n",
      "...                 ...          ...          ...\n",
      "2022-05-16  2337.500000  2303.500000  2240.500000\n",
      "2022-05-17  2350.500000  2337.500000  2303.500000\n",
      "2022-05-18  2370.500000  2350.500000  2337.500000\n",
      "2022-05-19  2328.500000  2370.500000  2350.500000\n",
      "2022-05-20  2336.500000  2328.500000  2370.500000\n",
      "\n",
      "[253 rows x 3 columns]\n"
     ]
    }
   ],
   "source": [
    "import numpy as np\n",
    "import pandas as pd\n",
    "import pandas_datareader as pdr\n",
    "import matplotlib.pyplot as plt\n",
    "from matplotlib import rcParams\n",
    "rcParams['figure.figsize'] = 8, 6\n",
    "import seaborn as sb\n",
    "import yfinance as yf\n",
    "sb.set()\n",
    "\n",
    "SHEL = yf.download(tickers='SHEL.L', period='1y')\n",
    "SHEL_close = pd.DataFrame(SHEL.Close, columns = ['Close'])\n",
    "SHEL_close['lag_1'] = SHEL_close.Close.shift(1)\n",
    "SHEL_close['lag_2'] = SHEL_close.Close.shift(2)\n",
    "SHEL_close.dropna(inplace = True)\n",
    "print(SHEL_close)\n",
    "\n"
   ]
  },
  {
   "cell_type": "code",
   "execution_count": null,
   "metadata": {},
   "outputs": [],
   "source": [
    "\n"
   ]
  }
 ],
 "metadata": {
  "interpreter": {
   "hash": "8f9ec667f5b15c3ec0402fa7f33389ffb8193b63014d197d524866775185c7f4"
  },
  "kernelspec": {
   "display_name": "Python 3.10.4 64-bit",
   "language": "python",
   "name": "python3"
  },
  "language_info": {
   "codemirror_mode": {
    "name": "ipython",
    "version": 3
   },
   "file_extension": ".py",
   "mimetype": "text/x-python",
   "name": "python",
   "nbconvert_exporter": "python",
   "pygments_lexer": "ipython3",
   "version": "3.10.4"
  },
  "orig_nbformat": 4
 },
 "nbformat": 4,
 "nbformat_minor": 2
}
