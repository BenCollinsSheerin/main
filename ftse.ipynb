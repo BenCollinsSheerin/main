{
 "cells": [
  {
   "cell_type": "code",
   "execution_count": 8,
   "metadata": {},
   "outputs": [
    {
     "name": "stdout",
     "output_type": "stream",
     "text": [
      "[*********************100%***********************]  1 of 1 completed\n",
      "                                  Open\n",
      "2022-07-11 08:00:00+01:00  7196.240234\n",
      "2022-07-11 10:00:00+01:00  7142.140137\n",
      "2022-07-12 08:00:00+01:00  7196.589844\n",
      "2022-07-12 10:00:00+01:00  7191.270020\n",
      "2022-07-13 08:00:00+01:00  7209.859863\n",
      "2022-07-13 10:00:00+01:00  7150.270020\n",
      "2022-07-14 08:00:00+01:00  7156.370117\n",
      "2022-07-14 10:00:00+01:00  7100.759766\n",
      "2022-07-15 08:00:00+01:00  7039.810059\n",
      "2022-07-15 10:00:00+01:00  7113.740234\n"
     ]
    }
   ],
   "source": [
    "import yfinance as yf\n",
    "import pandas as pd\n",
    "import numpy as np\n",
    "import matplotlib.pyplot as plt\n",
    "\n",
    "ftse = yf.download(tickers='^FTSE', period='5d', interval=\"1h\")\n",
    "ftse = ftse.drop('Low', axis=1)\n",
    "ftse = ftse.drop('High', axis=1)\n",
    "ftse = ftse.drop('Close', axis=1)\n",
    "ftse = ftse.drop('Adj Close', axis=1)\n",
    "ftse = ftse.drop('Volume', axis=1)\n",
    "\n",
    "substring_open = \"08:00:00+01:00\"\n",
    "substring_close = \"10:00:00+01:00\"\n",
    "\n",
    "series = ftse.index.to_series()\n",
    "\n",
    "for i in series:\n",
    "    if substring_open not in str(series[i]) and substring_close not in str(series[i]):\n",
    "        #print(ftse.loc[i])\n",
    "        #print(series[i])\n",
    "        ftse = ftse.drop(i)\n",
    "\n",
    "\n",
    "print(ftse)        \n",
    "\n",
    "#series = ftse.index.to_series()\n",
    "\n",
    "#timestamp = series[0]\n",
    "\n",
    "#print(substring in str(timestamp))"
   ]
  }
 ],
 "metadata": {
  "interpreter": {
   "hash": "8f9ec667f5b15c3ec0402fa7f33389ffb8193b63014d197d524866775185c7f4"
  },
  "kernelspec": {
   "display_name": "Python 3.10.4 64-bit",
   "language": "python",
   "name": "python3"
  },
  "language_info": {
   "codemirror_mode": {
    "name": "ipython",
    "version": 3
   },
   "file_extension": ".py",
   "mimetype": "text/x-python",
   "name": "python",
   "nbconvert_exporter": "python",
   "pygments_lexer": "ipython3",
   "version": "3.10.4"
  },
  "orig_nbformat": 4
 },
 "nbformat": 4,
 "nbformat_minor": 2
}
